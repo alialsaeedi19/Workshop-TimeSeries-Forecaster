{
 "cells": [
  {
   "cell_type": "markdown",
   "metadata": {},
   "source": [
    "# TimeSeries Forecasting @Datalift Conference Workshop in Berlin - Elia Group"
   ]
  },
  {
   "cell_type": "markdown",
   "metadata": {},
   "source": [
    "created by the Center of Excellence AI Elia Group (Christian Merz, Thomas Craessaerts, Raphael Croegaert, Rachel Berryman)  \n",
    "\n",
    "Link to the app: https://share.streamlit.io/chris-elia/ts-forecast/main/main.py  \n",
    "\n",
    "\n",
    "Contact: Artificialintelligence@eliagroup.eu"
   ]
  },
  {
   "cell_type": "markdown",
   "metadata": {},
   "source": [
    "### Agenda ###\n",
    "0. (**Set-up environment**)\n",
    "\n",
    "1. **Exploring the data**  🔍  \n",
    " 1.1. Elia Open Data (Total Load, PV and Wind production)  \n",
    " 1.2 Rebase API Weather Forecast  \n",
    " 1.3 Quick Visualization of the Data  \n",
    " \n",
    "1. **Time Series forecasting with Prophet** 📈   \n",
    " 2.1 Univariate Forecasting  \n",
    " 2.2 Multivariate Forecasting  \n",
    "\n",
    "3. **Putting everything together in a Web App with Streamlit** 🚀  \n",
    "   3.1   Layout & Functionalities  \n",
    "   3.2 Streamlit Cloud Deployment\n",
    "\n"
   ]
  },
  {
   "cell_type": "markdown",
   "metadata": {},
   "source": [
    "<img src=\"./data/Architecture_Layout.png\" alt=\"Drawing\" style=\"width: 1000px;\"/>"
   ]
  },
  {
   "cell_type": "markdown",
   "metadata": {},
   "source": [
    "### 0. Set-up dependencies\n",
    "\n",
    "To run this notebook and the forecasting app, you need certain dependencies.  \n",
    "To make it as simple as possible, everything is wrapped up in a conda environment file.\n",
    "Therefore run the two following commands in command line:\n",
    "- **conda env create -f environment.yml**\n",
    "- **conda activate conda_timeseries_forecaster**\n",
    "\n",
    "The first one will install the python version with the required packages. The second command will activate the conda environment.  \n",
    "\n",
    "\n",
    "\n",
    "**Python Version**\n",
    "- Python: 3.8.13\n",
    "   \n",
    "**Required packages**\n",
    "- pip install streamlit\n",
    "- pip install pystan==2.19.1.1\n",
    "- conda install prophet\n",
    "\n"
   ]
  },
  {
   "cell_type": "markdown",
   "metadata": {},
   "source": [
    "###     1. Exploring the data from the Elia OpenData Platform 🔍 \n"
   ]
  },
  {
   "cell_type": "markdown",
   "metadata": {},
   "source": [
    "https://opendata.elia.be/pages/home/ \n",
    "\n",
    "    \n",
    "https://api.rebase.energy/weather/docs/v2/\n",
    "\n",
    "https://realto.io/api-marketplace/"
   ]
  },
  {
   "cell_type": "markdown",
   "metadata": {},
   "source": [
    "#### 1.1. Elia Open DataAPI"
   ]
  },
  {
   "cell_type": "markdown",
   "metadata": {},
   "source": [
    "**Total Load:** https://opendata.elia.be/explore/dataset/ods003/api/\n",
    "\n",
    "**PV production:** https://opendata.elia.be/explore/dataset/ods032/api\n",
    "\n",
    "**Wind production:** https://opendata.elia.be/explore/dataset/ods031/api\n"
   ]
  },
  {
   "cell_type": "code",
   "execution_count": null,
   "metadata": {},
   "outputs": [],
   "source": [
    "#### Import of the neccessary libraries ###\n",
    "import requests\n",
    "import pandas as pd\n",
    "\n",
    "def get_open_data_elia_df(dataset, start_date, end_date):\n",
    "    \"\"\"Gets and returns the selected dataset from the Elia Open Data Platform within a given time range\n",
    "\n",
    "    Parameters\n",
    "    ----------\n",
    "    dataset: str\n",
    "        the selected dataset identifier from the Elia Open Data Platform\n",
    "    start_date: str\n",
    "        The start date of the selected dataset, Format: \"YYYY-MM-DD\"\n",
    "    end_date: str\n",
    "        The end date of the selected dataset, Format: \"YYYY-MM-DD\"    \n",
    "    \n",
    "\n",
    "    Returns\n",
    "    -------\n",
    "    pd.Dataframe\n",
    "        a dataframe containing the selected data\n",
    "    \n",
    "    \"\"\"\n",
    "\n",
    "    url = f\"https://opendata.elia.be/api/v2/catalog/datasets/{dataset}/exports/\"\n",
    "    json_string = f\"json?where=datetime in [date'{start_date}' .. date'{end_date}']\"\n",
    "    \n",
    "    response = requests.get(url = url + json_string)\n",
    "\n",
    "    # calling the Elia Open Data API\n",
    "    df = pd.DataFrame(response.json())\n",
    "    \n",
    "    df.sort_values(by = \"datetime\", inplace = True)\n",
    "    df.reset_index(inplace = True, drop =  True)    \n",
    "    df[\"datetime\"] = pd.to_datetime(df[\"datetime\"]).dt.tz_localize(None)\n",
    "\n",
    "    return df\n",
    "\n"
   ]
  },
  {
   "cell_type": "markdown",
   "metadata": {},
   "source": [
    "**Test the Open Data Function**"
   ]
  },
  {
   "cell_type": "code",
   "execution_count": null,
   "metadata": {},
   "outputs": [],
   "source": [
    "dataset = \"ods003\"\n",
    "start_date = \"2022-06-22\"\n",
    "end_date = \"2022-06-24\"\n",
    "df_open_data = get_open_data_elia_df(dataset, start_date , end_date )\n",
    "df_open_data.head()"
   ]
  },
  {
   "cell_type": "markdown",
   "metadata": {},
   "source": [
    "#### 1.2 Rebase Weather Forecast"
   ]
  },
  {
   "cell_type": "code",
   "execution_count": null,
   "metadata": {},
   "outputs": [],
   "source": [
    "def get_weather_forecast(start_date, end_date, latitude, longitude):\n",
    "    \n",
    "    secret = \"W-cRKEYdwzL6mdWCYO2_UZSOWI1MxET07dquSY9Fck4\"\n",
    "    \"\"\"\n",
    "    Gets and returns the weather forecast from rebase within a given time range\n",
    "\n",
    "    Parameters\n",
    "    ----------\n",
    "    start_date: str\n",
    "        The start date of the selected dataset, Format: \"YYYY-MM-DD\"\n",
    "    end_date: str\n",
    "        The end date of the selected dataset, Format: \"YYYY-MM-DD\"\n",
    "    latitude: str\n",
    "        The latitude value (Geo location) of the city for the weather forecast\n",
    "    longitude: str\n",
    "        The longitude value (Geo location) of the city for the weather forecast\n",
    "\n",
    "    Returns\n",
    "    -------\n",
    "    pd.Dataframe\n",
    "        a dataframe containing the selected data\n",
    "    \n",
    "    \"\"\"\n",
    "\n",
    "    start_date = pd.to_datetime(start_date)\n",
    "    end_date = pd.to_datetime(end_date)\n",
    "\n",
    "    # Authentication\n",
    "    url = \"https://api.rebase.energy/weather/v2/query\"\n",
    "    headers = {\"Authorization\": secret } ## to be changed to st.secrets[\"REBASE_KEY\"]\n",
    "    params = {\n",
    "        'model': 'FMI_HIRLAM',\n",
    "        'start-date': start_date,\n",
    "        'end-date': end_date,\n",
    "        'reference-time-freq': '24H',\n",
    "        'forecast-horizon': 'latest',\n",
    "        'latitude': latitude,\n",
    "        'longitude': longitude,\n",
    "        'variables': 'Temperature, WindSpeed, SolarDownwardRadiation'\n",
    "    }\n",
    "    response = requests.get(url, headers=headers, params=params)\n",
    "\n",
    "    # Clean data\n",
    "    df = pd.DataFrame(response.json())\n",
    "    df = df.drop('ref_datetime', axis=1)\n",
    "    df[\"valid_datetime\"] = pd.to_datetime(df[\"valid_datetime\"]).dt.tz_localize(None)\n",
    "\n",
    "    df = df.rename(columns={'valid_datetime': 'datetime'})\n",
    "    df = df.drop_duplicates(keep='last')\n",
    "    df = df.fillna(0)\n",
    "\n",
    "    return df\n",
    "  \n"
   ]
  },
  {
   "cell_type": "markdown",
   "metadata": {},
   "source": [
    "**Test Weather Forecast Rebase** "
   ]
  },
  {
   "cell_type": "code",
   "execution_count": null,
   "metadata": {},
   "outputs": [],
   "source": [
    "start_date = \"2022-06-03\"\n",
    "end_date = \"2022-06-05\"\n",
    "latitude = \"50.85045\"\n",
    "longitude = \"4.34878\"\n",
    "df_weather = get_weather_forecast(start_date, end_date, latitude, longitude)\n",
    "\n",
    "df_weather.head()"
   ]
  },
  {
   "cell_type": "markdown",
   "metadata": {},
   "source": [
    "### 1.3 Quick Visualization of the Data"
   ]
  },
  {
   "cell_type": "code",
   "execution_count": null,
   "metadata": {},
   "outputs": [],
   "source": [
    "df_grid_load = get_open_data_elia_df(\"ods003\", \"2022-06-02\", \"2022-06-05\")\n",
    "df_grid_load = df_grid_load.loc[:,[\"datetime\", \"eliagridload\"]]\n",
    "#df_ts.set_index(\"datetime\", inplace=True)\n",
    "df_grid_load.plot(\n",
    "    x = df_grid_load.columns[0],\n",
    "    y = df_grid_load.columns[1],\n",
    "    title = \"Total Load in the Elia Grid\",\n",
    "    ylabel = \"MW\",\n",
    "    xlabel = \"Time\"\n",
    ")"
   ]
  },
  {
   "cell_type": "code",
   "execution_count": null,
   "metadata": {},
   "outputs": [],
   "source": [
    "df_weather = get_weather_forecast(\"2022-06-02\", \"2022-06-05\", latitude = \"50.85045\", longitude = \"4.34878\")\n",
    "#df_weather = df_weather.loc[:,[\"datetime\", \"eliagridload\"]]\n",
    "#df_ts.set_index(\"datetime\", inplace=True)\n",
    "df_weather.plot(\n",
    "    x = df_weather.columns[0],\n",
    "    y = [df_weather.columns[1],df_weather.columns[2],df_weather.columns[3]],\n",
    "    title = \"Total Load in the Elia Grid\",\n",
    "    xlabel = \"Time\",\n",
    "    subplots = True\n",
    ")"
   ]
  },
  {
   "cell_type": "markdown",
   "metadata": {},
   "source": [
    "**What we have achived so far**\n",
    "\n",
    "<img src=\"./data/Architecture_Layout Step 2.png\" alt=\"Drawing\" style=\"width: 700px;\"/>"
   ]
  },
  {
   "cell_type": "markdown",
   "metadata": {},
   "source": [
    "## 2. Timeseries Forecasting with Prophet (Facebook) 📈  "
   ]
  },
  {
   "cell_type": "markdown",
   "metadata": {},
   "source": [
    "The Prophet library is an open-source library designed for making forecasts for univariate time series datasets.\n",
    "It is a procedure for forecasting time series data based on an additive model where non-linear trends are fit with yearly, weekly, and daily seasonality, plus holiday effects. It works best with time series that have strong seasonal effects and several seasons of historical data. Prophet is robust to missing data and shifts in the trend, and typically handles outliers well."
   ]
  },
  {
   "cell_type": "markdown",
   "metadata": {},
   "source": [
    "**Documentation:** https://facebook.github.io/prophet/docs/quick_start.html"
   ]
  },
  {
   "cell_type": "markdown",
   "metadata": {},
   "source": [
    "#### Univariate Forecasting\n",
    "\n",
    "Tasks for you to do:\n",
    "\n",
    "1. Get familiar with the Prophet API and make a simple prediction -> check out the documentation\n",
    "2. Wrap everything together in a function"
   ]
  },
  {
   "cell_type": "code",
   "execution_count": null,
   "metadata": {},
   "outputs": [],
   "source": [
    "# 1. Get familiar with the Prophet API and make a simple prediction -> check out the documentation\n",
    "\n",
    "import pandas \n",
    "from prophet import Prophet\n",
    "\n",
    "# read in the test_data_grid.csv file as a dataframe \n",
    "df = pd.read_csv(\"data/test_data_grid.csv\", parse_dates = True, index_col=0)\n",
    "\n",
    "# have a quick look at the data\n",
    "df.head()\n",
    "\n",
    "# rename the columns of the dataframe to the Prophet convention\n",
    "df = df.rename(columns = {df.columns[0]: \"ds\", df.columns[1]:\"y\"})\n",
    "\n",
    "# creating a Prophet object \n",
    "    ## optional parameters can be set here like:\n",
    "    ## seasonality, changepoints, uncertainty intervals etc. see help(Prophet) \n",
    "    ## e.g. weekly_seasonality = True\n",
    "m = Prophet() \n",
    "\n",
    "# Fit the data to the Prophet object\n",
    "    ## fit() methods expects a dataframe with the column heads ds and y\n",
    "m.fit(df)\n",
    "\n",
    "# Create the future dataframe and set the frequency to Hours\n",
    "     ## periods: Int number of periods to forecast forward. \n",
    "     ## freq: Any valid frequency for pd.date_range, such as 'M (month), 'D'(day) or 'H' (hour).\n",
    "future = m.make_future_dataframe(periods=30, freq = \"H\")\n",
    "    \n",
    "# Make the prediction\n",
    "     ## expects a dataframe with dates for predictions \n",
    "     ## (created above with make_future_dataframe)\n",
    "forecast = m.predict(future)\n",
    "    \n",
    "# Create some plots of the forecast\n",
    "    ## forecast plot\n",
    "fig_forecast = m.plot(forecast)\n",
    "\n",
    "    ## components plot\n",
    "fig_comp = m.plot_components(forecast)"
   ]
  },
  {
   "cell_type": "code",
   "execution_count": null,
   "outputs": [],
   "source": [
    "import os\n",
    "print(os.getcwd())"
   ],
   "metadata": {
    "collapsed": false,
    "pycharm": {
     "name": "#%%\n"
    }
   }
  },
  {
   "cell_type": "code",
   "execution_count": null,
   "metadata": {},
   "outputs": [],
   "source": [
    "# 2. Wrap everything together in a function\n",
    "\n",
    "from prophet import Prophet\n",
    "import pandas as pd\n",
    "\n",
    "def run_forecast_univariate(df, periods):\n",
    "    \"\"\"\n",
    "    returns the univariate prophet forecast + two graphic objects (forecast & composite)\n",
    "\n",
    "    Parameters\n",
    "    ----------\n",
    "    df: DataFrame\n",
    "        a dataframe that includes the historical data\n",
    "    periods: int\n",
    "        the time steps to forecast\n",
    "\n",
    "    Returns\n",
    "    -------\n",
    "    forecast\n",
    "        a dataframe containing the foecast data\n",
    "    fig_forecast\n",
    "        a figure forecast to plot\n",
    "    fig_components\n",
    "        a figure components to plot\n",
    "    \n",
    "    \"\"\"\n",
    "\n",
    "     #renaming columns for prophet convention\n",
    "    df = df.rename(columns = {df.columns[0]: \"ds\", df.columns[1]:\"y\"})\n",
    "\n",
    "    # creating a Prophet object \n",
    "    ## optional parameters can be set here like:\n",
    "    ## seasonality, changepoints, uncertainty intervals etc. see help(Prophet) \n",
    "    ## e.g. weekly_seasonality = True\n",
    "    m = Prophet() \n",
    "\n",
    "    # fit() methods expects a dataframe with the column heads ds and y\n",
    "    # fits the prophet model to the data\n",
    "    m.fit(df)\n",
    "\n",
    "    # Definition of forecast range\n",
    "     ## periods: Int number of periods to forecast forward. \n",
    "     ## req: Any valid frequency for pd.date_range, such as 'D' or 'M'.\n",
    "    future = m.make_future_dataframe(periods=periods, freq = \"H\")\n",
    "    \n",
    "    # Prediction\n",
    "     ## expects a dataframe with dates for predictions \n",
    "     ## (created above with make_future_dataframe)\n",
    "    forecast = m.predict(future)\n",
    "    \n",
    "    # plotting\n",
    "    fig_forecast = m.plot(forecast)\n",
    "    fig_comp = m.plot_components(forecast)\n",
    "    \n",
    "    \n",
    "    return forecast, fig_forecast, fig_comp"
   ]
  },
  {
   "cell_type": "markdown",
   "metadata": {},
   "source": [
    "**Test Univariate Forecast**"
   ]
  },
  {
   "cell_type": "code",
   "execution_count": null,
   "metadata": {},
   "outputs": [],
   "source": [
    "df_grid_load = get_open_data_elia_df(\"ods003\", \"2022-06-22\", \"2022-06-24\")\n",
    "df_grid_load = df_grid_load.loc[:,[\"datetime\", \"eliagridload\"]]\n",
    "forecast, fig_forecast, fig_comp = run_forecast_univariate(df_grid_load, 100)\n",
    "\n",
    "print(fig_forecast)"
   ]
  },
  {
   "cell_type": "markdown",
   "metadata": {},
   "source": [
    "#### Multivariate Forecasting"
   ]
  },
  {
   "cell_type": "markdown",
   "metadata": {},
   "source": [
    "For multivariate forecasting we need additional features.   \n",
    "In this example we **include the weather forecast** (solar radiation, wind speed and temperature) **as additional features**.  \n",
    "Therefore we need to combine the historical data with the weather data. This is done with the function *prepare_data_for_mv_fc*"
   ]
  },
  {
   "cell_type": "code",
   "execution_count": null,
   "metadata": {},
   "outputs": [],
   "source": [
    "from prophet import Prophet\n",
    "from prophet.utilities import regressor_coefficients\n",
    "from datetime import timedelta\n",
    "import pandas as pd\n",
    "\n",
    "from prophet.utilities import regressor_coefficients\n",
    "from modules.fetch_data import get_weather_forecast, get_open_data_elia_df\n",
    "\n",
    "\n",
    "def prepare_data_for_mv_fc(dataset, start_date, end_date, solar, wind, temp, lat,long):\n",
    "    \"\"\"\n",
    "    Prepares and merges weather data with historical data for multivariate forecast with prophet\n",
    "\n",
    "    Parameters\n",
    "    ----------\n",
    "    dataset: str\n",
    "        the selected dataset identifier from the Elia Open Data Platform\n",
    "    start_date: str\n",
    "        The start date of the selected dataset, Format: \"YYYY-MM-DD\"\n",
    "    end_date: str\n",
    "        The end date of the selected dataset, Format: \"YYYY-MM-DD\"    \n",
    "    solar: bool\n",
    "        if True, solar data will be added as additional regressor\n",
    "    wind: bool\n",
    "        if True, wind data will be added as additional regressor\n",
    "    temp: bool\n",
    "        if True, temp data will be added as additional regressor\n",
    "    lat: str\n",
    "        The latitude value (Geo location) of the city for the weather forecast\n",
    "    long: str\n",
    "        The longitude value (Geo location) of the city for the weather forecast\n",
    "\n",
    "\n",
    "    Returns\n",
    "    -------\n",
    "    pd.Dataframe\n",
    "        a dataframe containing the merged historical and weather data\n",
    "    \n",
    "\n",
    "    \"\"\"\n",
    "    # catch open data\n",
    "    if (dataset == \"ods003\"): # total load\n",
    "        df = get_open_data_elia_df(dataset,start_date, end_date) \n",
    "        df.set_index(df[\"datetime\"], inplace = True)\n",
    "        df = df.resample(\"H\").mean()\n",
    "        df.reset_index(inplace = True)\n",
    "        \n",
    "    else:  # for solar & wind \n",
    "        df = get_open_data_elia_df(dataset,start_date, end_date) \n",
    "        df = df.groupby(\"datetime\").sum()\n",
    "        df = df.resample(\"H\").mean()\n",
    "        df.reset_index(inplace = True)\n",
    "        df = df.loc[:,[\"datetime\", \"mostrecentforecast\"]]\n",
    "        df[\"datetime\"] = pd.to_datetime(df[\"datetime\"]).dt.tz_localize(None)\n",
    "\n",
    "    # specifying variables\n",
    "    start_date= df[\"datetime\"].iloc[0]\n",
    "    end_date = df[\"datetime\"].iloc[-1]\n",
    "    latitude = lat\n",
    "    longitude = long\n",
    "\n",
    "    # get weather forecast\n",
    "    df_weather = get_weather_forecast(start_date, end_date, latitude, longitude)\n",
    "    columns = []\n",
    "    if solar:\n",
    "        columns.append(\"SolarDownwardRadiation\")\n",
    "    if wind:  \n",
    "        columns.append(\"WindSpeed\")\n",
    "    if temp:\n",
    "        columns.append(\"Temperature\")\n",
    "\n",
    "    columns.append(\"datetime\")\n",
    "    df_weather = df_weather.loc[:,columns]    \n",
    "    df_merged = df.merge(df_weather, on = \"datetime\")\n",
    "\n",
    "    df_merged.rename(columns = {df.columns[0]: \"ds\", df.columns[1]:\"y\"}, inplace = True)\n",
    "\n",
    "    return df_merged"
   ]
  },
  {
   "cell_type": "code",
   "execution_count": null,
   "metadata": {
    "pycharm": {
     "is_executing": true
    }
   },
   "outputs": [],
   "source": [
    "def run_forecast_multivariate(df_merged, lat, long, forecast_horizon):\n",
    "\n",
    "    \"\"\"\n",
    "    returns the multivariate prophet forecast + two graphic objects (forecast & components) + regressor coeffiecnt dataframe\n",
    "\n",
    "    Parameters\n",
    "    ----------\n",
    "    df_merged: DataFrame\n",
    "        a dataframe that includes the historical data + \n",
    "    lat:\n",
    "        latitude value of geo localization for weather forecast\n",
    "    long:\n",
    "        longitude value of geo localization for weather forecast\n",
    "    forecast_horizon: int\n",
    "        the time steps to forecast\n",
    "\n",
    "    Returns\n",
    "    -------\n",
    "    forecast\n",
    "        a dataframe containing the foecast data\n",
    "    fig_forecast\n",
    "        a figure forecast to plot\n",
    "    fig_components\n",
    "        a figure components to plot\n",
    "    reg_coef\n",
    "        a dataframe with the coefficiencts of the additional regressors\n",
    "\n",
    "    \"\"\"\n",
    "    # date calculation\n",
    "    end_date = df_merged[\"ds\"].sort_values().iloc[-1] # last date of the historical data    \n",
    "    start_date_forecast = end_date + timedelta(hours = 1) # first date for the forecast\n",
    "    end_date_forecast = start_date_forecast + timedelta(hours = forecast_horizon) # last date for the forecast\n",
    "\n",
    "    # get weather forecast\n",
    "    weather_forecast = get_weather_forecast(start_date_forecast, end_date_forecast, lat, long)\n",
    "    \n",
    "    # creating Prophet Object\n",
    "    m = Prophet() \n",
    "    \n",
    "    # creating an addiitional regressor for each additional column that is provided\n",
    "    for each in df_merged.columns[2:]:\n",
    "        m.add_regressor(each)\n",
    "\n",
    "    # fit() methods expects a dataframe with the column heads ds and y\n",
    "    # fits the prophet model to the data\n",
    "    m.fit(df_merged)        \n",
    "\n",
    "    # Definition of forecast range\n",
    "    ## periods: Int number of periods to forecast forward. \n",
    "    ## req: Any valid frequency for pd.date_range, such as 'D' or 'M'.\n",
    "    future = m.make_future_dataframe(periods=forecast_horizon, freq = \"H\")\n",
    "    future = future.merge(weather_forecast, left_on= \"ds\", right_on = \"datetime\")\n",
    "\n",
    "    # Prediction\n",
    "    ## expects a dataframe with dates for predictions \n",
    "    ## (created above with make_future_dataframe)\n",
    "    forecast = m.predict(future)\n",
    "\n",
    "    # plotting\n",
    "    fig_forecast = m.plot(forecast)\n",
    "    fig_components = m.plot_components(forecast)\n",
    "\n",
    "    reg_coef = regressor_coefficients(m)\n",
    "    \n",
    "    return forecast, fig_forecast, fig_components, reg_coef\n"
   ]
  },
  {
   "cell_type": "markdown",
   "metadata": {},
   "source": [
    "**Test the Multivariate Forecast Function**"
   ]
  },
  {
   "cell_type": "code",
   "execution_count": null,
   "metadata": {},
   "outputs": [],
   "source": [
    "lat = \"50.85045\"\n",
    "long = \"4.34878\"\n",
    "forecast_horizon = 100\n",
    "\n",
    "df_merged = prepare_data_for_mv_fc(\"ods003\", \"2022-06-22\", \"2022-06-24\", True, True, False, lat, long)\n",
    "forecast, fig_forecast, fig_components, reg_coef = run_forecast_multivariate(df_merged, lat, long, forecast_horizon)\n",
    "\n",
    "print(fig_forecast)"
   ]
  },
  {
   "cell_type": "markdown",
   "metadata": {},
   "source": [
    "## Putting everything together in a Web App with Streamlit 🚀\n",
    "\n",
    "Let's move to Visual Studio Code and implement the functions and create the layout."
   ]
  },
  {
   "cell_type": "markdown",
   "metadata": {},
   "source": []
  }
 ],
 "metadata": {
  "kernelspec": {
   "display_name": "Python 3.8.13 ('conda_timeseries_forecaster')",
   "language": "python",
   "name": "python3"
  },
  "language_info": {
   "codemirror_mode": {
    "name": "ipython",
    "version": 3
   },
   "file_extension": ".py",
   "mimetype": "text/x-python",
   "name": "python",
   "nbconvert_exporter": "python",
   "pygments_lexer": "ipython3",
   "version": "3.8.13"
  },
  "vscode": {
   "interpreter": {
    "hash": "15dee1ae548a31bd6fcec8e11ebec5ccd10918702ba73c09fa1edf23ea3993b3"
   }
  }
 },
 "nbformat": 4,
 "nbformat_minor": 4
}